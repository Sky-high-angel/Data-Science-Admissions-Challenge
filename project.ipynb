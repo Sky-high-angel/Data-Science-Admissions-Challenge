{
 "cells": [
  {
   "cell_type": "markdown",
   "id": "0d3c7483-39e3-43c6-83b1-547378cca71c",
   "metadata": {},
   "source": [
    "# First Project"
   ]
  },
  {
   "cell_type": "code",
   "execution_count": 155,
   "id": "91a3506f-f9b4-4948-995a-8f7629dfd651",
   "metadata": {},
   "outputs": [],
   "source": [
    "import pandas as pd"
   ]
  },
  {
   "cell_type": "markdown",
   "id": "c31d2eae-97f3-4a8e-82f2-f2e968fd58ee",
   "metadata": {},
   "source": [
    "# First: Load the csv file into a Pandas dataframe (df)"
   ]
  },
  {
   "cell_type": "code",
   "execution_count": 157,
   "id": "bb680564-24d0-4ee4-b780-6da6c0a7643d",
   "metadata": {},
   "outputs": [],
   "source": [
    "df = pd.read_csv('/Users/miguelcarrillo/Desktop/Data Science/results.csv')"
   ]
  },
  {
   "cell_type": "code",
   "execution_count": 158,
   "id": "89bd8b35-088e-45ca-91a8-a01376377a10",
   "metadata": {},
   "outputs": [
    {
     "name": "stdout",
     "output_type": "stream",
     "text": [
      "<class 'pandas.core.frame.DataFrame'>\n",
      "RangeIndex: 45315 entries, 0 to 45314\n",
      "Data columns (total 9 columns):\n",
      " #   Column      Non-Null Count  Dtype \n",
      "---  ------      --------------  ----- \n",
      " 0   date        45315 non-null  object\n",
      " 1   home_team   45315 non-null  object\n",
      " 2   away_team   45315 non-null  object\n",
      " 3   home_score  45315 non-null  int64 \n",
      " 4   away_score  45315 non-null  int64 \n",
      " 5   tournament  45315 non-null  object\n",
      " 6   city        45315 non-null  object\n",
      " 7   country     45315 non-null  object\n",
      " 8   neutral     45315 non-null  bool  \n",
      "dtypes: bool(1), int64(2), object(6)\n",
      "memory usage: 2.8+ MB\n"
     ]
    }
   ],
   "source": [
    "df.info()"
   ]
  },
  {
   "cell_type": "markdown",
   "id": "eee9ac57-4644-4451-ac54-f06294c0b233",
   "metadata": {},
   "source": [
    "# Q1: What is the average number of goals for the home team? "
   ]
  },
  {
   "cell_type": "code",
   "execution_count": 160,
   "id": "5af78cb4-0d57-47b3-bedf-ea51b062a6cc",
   "metadata": {},
   "outputs": [
    {
     "name": "stdout",
     "output_type": "stream",
     "text": [
      "Average home score: 1.7393136930376256\n"
     ]
    }
   ],
   "source": [
    "average_home_score = df['home_score'].mean()\n",
    "print (\"Average home score:\", average_home_score)"
   ]
  },
  {
   "cell_type": "markdown",
   "id": "5a42945d-af05-4aab-85f8-2688f01b2d46",
   "metadata": {},
   "source": [
    "# Q2: What is the average number of goals for the away team?"
   ]
  },
  {
   "cell_type": "code",
   "execution_count": 162,
   "id": "d8c7fb6d-f1ff-4a17-8d58-42383394ffa0",
   "metadata": {},
   "outputs": [
    {
     "name": "stdout",
     "output_type": "stream",
     "text": [
      "Average away score: 1.1782412004854905\n"
     ]
    }
   ],
   "source": [
    "average_away_score = df ['away_score'].mean()\n",
    "print (\"Average away score:\", average_away_score)"
   ]
  },
  {
   "cell_type": "markdown",
   "id": "76240a62-8fd2-4b1b-87d1-e532023847ca",
   "metadata": {},
   "source": [
    "# Q3: What is the country with the highest overall home score?"
   ]
  },
  {
   "cell_type": "code",
   "execution_count": 164,
   "id": "97a98d0e-95ff-4bab-a884-3b39109646fe",
   "metadata": {},
   "outputs": [],
   "source": [
    "home_score_country = df.groupby('country')['home_score'].sum()"
   ]
  },
  {
   "cell_type": "code",
   "execution_count": 165,
   "id": "adccd627-11e0-4bd8-a3c4-eec8eae4901a",
   "metadata": {},
   "outputs": [],
   "source": [
    "country_highest_home_score = home_score_country.idxmax()"
   ]
  },
  {
   "cell_type": "code",
   "execution_count": 166,
   "id": "dd77dbda-618c-4785-bcbf-40781fa76d98",
   "metadata": {},
   "outputs": [
    {
     "name": "stdout",
     "output_type": "stream",
     "text": [
      "Country with the highest overall home score: United States\n",
      "Total home score: United States\n"
     ]
    }
   ],
   "source": [
    "print(\"Country with the highest overall home score:\", country_highest_home_score)\n",
    "print(\"Total home score:\", country_highest_home_score)"
   ]
  },
  {
   "cell_type": "markdown",
   "id": "597863d5-df48-4f95-8e90-2fe17b613b00",
   "metadata": {},
   "source": [
    "# Q4: What are the top 3 type of tournaments?"
   ]
  },
  {
   "cell_type": "code",
   "execution_count": 168,
   "id": "18e89901-3acb-4039-bd8a-93dafc8a82d4",
   "metadata": {},
   "outputs": [
    {
     "name": "stdout",
     "output_type": "stream",
     "text": [
      "tournament\n",
      "Friendly                        17773\n",
      "FIFA World Cup qualification     8016\n",
      "UEFA Euro qualification          2815\n",
      "Name: count, dtype: int64\n"
     ]
    }
   ],
   "source": [
    "top_3_types_tournaments = df['tournament'].value_counts().head(3)\n",
    "print(top_3_types_tournaments)"
   ]
  },
  {
   "cell_type": "markdown",
   "id": "64001c11-bf30-4339-aa09-ea1751c8428d",
   "metadata": {},
   "source": [
    "# Q5: Which country has the highest overall FIFA World Cup goals?"
   ]
  },
  {
   "cell_type": "code",
   "execution_count": 170,
   "id": "5ea47b17-7261-41c6-a68d-b091aa706b43",
   "metadata": {},
   "outputs": [],
   "source": [
    "fifa_df = df[df['tournament'] == 'FIFA World Cup']"
   ]
  },
  {
   "cell_type": "code",
   "execution_count": 171,
   "id": "2316c9b2-af61-406a-850a-2eb0a004d762",
   "metadata": {},
   "outputs": [
    {
     "name": "stderr",
     "output_type": "stream",
     "text": [
      "/var/folders/12/k14pbb390mvbjbh9w87kh7w80000gn/T/ipykernel_1699/914409816.py:1: SettingWithCopyWarning: \n",
      "A value is trying to be set on a copy of a slice from a DataFrame.\n",
      "Try using .loc[row_indexer,col_indexer] = value instead\n",
      "\n",
      "See the caveats in the documentation: https://pandas.pydata.org/pandas-docs/stable/user_guide/indexing.html#returning-a-view-versus-a-copy\n",
      "  fifa_df['total_score'] = fifa_df['home_score'] + fifa_df['away_score']\n"
     ]
    }
   ],
   "source": [
    "fifa_df['total_score'] = fifa_df['home_score'] + fifa_df['away_score']"
   ]
  },
  {
   "cell_type": "code",
   "execution_count": 172,
   "id": "ff9064f4-c863-44d3-99f7-ff8478906756",
   "metadata": {},
   "outputs": [],
   "source": [
    "total_score_by_country = fifa_df.groupby('country')['total_score'].sum()"
   ]
  },
  {
   "cell_type": "code",
   "execution_count": 173,
   "id": "57949052-217d-498d-b38f-3f5508ec83b7",
   "metadata": {},
   "outputs": [],
   "source": [
    "country_with_highest_total_score = total_score_by_country.idxmax()"
   ]
  },
  {
   "cell_type": "code",
   "execution_count": 174,
   "id": "7f1943b3-28f1-4a0a-9978-d2e38ef17aa5",
   "metadata": {},
   "outputs": [
    {
     "name": "stdout",
     "output_type": "stream",
     "text": [
      "Brazil\n"
     ]
    }
   ],
   "source": [
    "print (country_with_highest_total_score)"
   ]
  },
  {
   "cell_type": "code",
   "execution_count": null,
   "id": "04c4db93-77f8-45be-a80d-529a12fa4685",
   "metadata": {},
   "outputs": [],
   "source": []
  }
 ],
 "metadata": {
  "kernelspec": {
   "display_name": "Python 3 (ipykernel)",
   "language": "python",
   "name": "python3"
  },
  "language_info": {
   "codemirror_mode": {
    "name": "ipython",
    "version": 3
   },
   "file_extension": ".py",
   "mimetype": "text/x-python",
   "name": "python",
   "nbconvert_exporter": "python",
   "pygments_lexer": "ipython3",
   "version": "3.12.4"
  }
 },
 "nbformat": 4,
 "nbformat_minor": 5
}
